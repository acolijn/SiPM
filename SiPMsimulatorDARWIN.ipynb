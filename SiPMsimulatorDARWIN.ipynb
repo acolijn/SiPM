{
 "cells": [
  {
   "cell_type": "markdown",
   "metadata": {},
   "source": [
    "## DARWIN SiPM simulation## "
   ]
  },
  {
   "cell_type": "code",
   "execution_count": 1,
   "metadata": {
    "scrolled": true
   },
   "outputs": [],
   "source": [
    "#\n",
    "# import the SiPM classes\n",
    "#\n",
    "from SiPM import *\n",
    "# for plotting\n",
    "import matplotlib\n",
    "import matplotlib.pyplot as plt\n",
    "%matplotlib inline"
   ]
  },
  {
   "cell_type": "markdown",
   "metadata": {},
   "source": [
    "### Define general geometry parameters ###"
   ]
  },
  {
   "cell_type": "code",
   "execution_count": 2,
   "metadata": {
    "scrolled": true
   },
   "outputs": [],
   "source": [
    "# z position of the in-plane SiPMs\n",
    "z_plane = 10\n",
    "# radius of the cyinder for SiPMs at the side\n",
    "r_cylinder = 22\n",
    "# radius of a SiPM - I assume circular SiPMs with a radius to make the area correspond to a 3x3mm2 square.\n",
    "r_sipm = 1.6925\n",
    "# make an instant of the geometry class\n",
    "geo = GeoParameters(z_plane=z_plane, r_cylinder=r_cylinder, r_sipm=r_sipm)"
   ]
  },
  {
   "cell_type": "markdown",
   "metadata": {},
   "source": [
    "### Define the geometry of the silicon PMs ###\n",
    "\n",
    "Add the SiPMs to the geometry"
   ]
  },
  {
   "cell_type": "code",
   "execution_count": 3,
   "metadata": {
    "scrolled": true
   },
   "outputs": [],
   "source": [
    "inch = 25.4 # mm\n",
    "\n",
    "# generate a square array of SiPMs\n",
    "for x in np.arange(0,3*inch,1):\n",
    "    for y in np.arange(0,3*inch,1):\n",
    "        sipm = SiPM(type=\"plane\",position=[x,y,z_plane],qeff=1.)\n",
    "        geo.add_sipm(sipm)"
   ]
  },
  {
   "cell_type": "markdown",
   "metadata": {},
   "source": [
    "### Simulate the SiPM acceptance ###\n",
    "\n",
    "* uv_position is the position where the UV photons are generated\n",
    "* n_mc is the number of MC photons"
   ]
  },
  {
   "cell_type": "code",
   "execution_count": null,
   "metadata": {
    "scrolled": true
   },
   "outputs": [
    {
     "name": "stdout",
     "output_type": "stream",
     "text": [
      "generated  0  events\n"
     ]
    }
   ],
   "source": [
    "#sim = Simulator(geo=geo,uv_position=[30.4,37.6,0],n_mc=100000)\n",
    "sim = Simulator(geo=geo,uv_position=[15.,33.,0],n_mc=100000)\n",
    "\n",
    "sim.generate_events()"
   ]
  },
  {
   "cell_type": "markdown",
   "metadata": {},
   "source": [
    "### Emulate events and reconstruct the position ###\n",
    "\n",
    "* n_event = number of events to emulate\n",
    "* n_uv = number of UV photons assumed for the S2 signal"
   ]
  },
  {
   "cell_type": "code",
   "execution_count": null,
   "metadata": {},
   "outputs": [],
   "source": [
    "%load_ext snakeviz"
   ]
  },
  {
   "cell_type": "code",
   "execution_count": null,
   "metadata": {
    "scrolled": false
   },
   "outputs": [],
   "source": [
    "%%time\n",
    "rec = Reconstruction(sim=sim, alpha0=0.)\n",
    "df = rec.emulate_events(n_uv=125000,n_event=1000,n_min=0,method=\"LINEAR\",plot=False,nbins=100,range=((-20,20),(-20,40)))"
   ]
  },
  {
   "cell_type": "markdown",
   "metadata": {},
   "source": [
    "# Plots from here ...... ###"
   ]
  },
  {
   "cell_type": "markdown",
   "metadata": {},
   "source": [
    "1D distribution of reconstructed x and y position"
   ]
  },
  {
   "cell_type": "code",
   "execution_count": null,
   "metadata": {
    "scrolled": false
   },
   "outputs": [],
   "source": [
    "a = rec.plot(type=\"res\",bins=100,range=(-100,100))"
   ]
  },
  {
   "cell_type": "markdown",
   "metadata": {},
   "source": [
    "2D distribution of y as a function of x"
   ]
  },
  {
   "cell_type": "code",
   "execution_count": null,
   "metadata": {
    "scrolled": false
   },
   "outputs": [],
   "source": [
    "inch = 25.4\n",
    "ax = rec.plot(type=\"xy\",range=((-10,3*inch+10),(-10,3*inch+10)))\n",
    "#ax = rec.plot(type=\"xy\",range=((-10,10),(40,60)))\n",
    "\n",
    "\n",
    "# add outline of a single 3\" PMT\n",
    "c1 = plt.Circle(radius=3*inch/2,xy=(3*inch/2,3*inch/2),fill=False,color='white')\n",
    "ax.add_artist(c1)"
   ]
  },
  {
   "cell_type": "markdown",
   "metadata": {},
   "source": [
    "Distribution of reconstructed UV intensity"
   ]
  },
  {
   "cell_type": "code",
   "execution_count": null,
   "metadata": {
    "scrolled": true
   },
   "outputs": [],
   "source": [
    "rec.plot(type=\"alpha\",range=(0,0.001))"
   ]
  },
  {
   "cell_type": "code",
   "execution_count": null,
   "metadata": {
    "scrolled": true
   },
   "outputs": [],
   "source": [
    "rec.plot(type=\"intensity\",range=(0,1000000))"
   ]
  },
  {
   "cell_type": "code",
   "execution_count": null,
   "metadata": {},
   "outputs": [],
   "source": []
  },
  {
   "cell_type": "code",
   "execution_count": null,
   "metadata": {},
   "outputs": [],
   "source": []
  }
 ],
 "metadata": {
  "kernelspec": {
   "display_name": "Python 3",
   "language": "python",
   "name": "python3"
  },
  "language_info": {
   "codemirror_mode": {
    "name": "ipython",
    "version": 3
   },
   "file_extension": ".py",
   "mimetype": "text/x-python",
   "name": "python",
   "nbconvert_exporter": "python",
   "pygments_lexer": "ipython3",
   "version": "3.7.6"
  }
 },
 "nbformat": 4,
 "nbformat_minor": 2
}
