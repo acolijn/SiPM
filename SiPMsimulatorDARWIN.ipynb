{
 "cells": [
  {
   "cell_type": "markdown",
   "metadata": {},
   "source": [
    "## DARWIN SiPM simulation## "
   ]
  },
  {
   "cell_type": "code",
   "execution_count": 1,
   "metadata": {
    "scrolled": true
   },
   "outputs": [],
   "source": [
    "#\n",
    "# import the SiPM classes\n",
    "#\n",
    "from SiPM import *\n",
    "# for plotting\n",
    "import matplotlib\n",
    "import matplotlib.pyplot as plt\n",
    "%matplotlib inline"
   ]
  },
  {
   "cell_type": "markdown",
   "metadata": {},
   "source": [
    "### Define general geometry parameters ###"
   ]
  },
  {
   "cell_type": "code",
   "execution_count": 2,
   "metadata": {
    "scrolled": true
   },
   "outputs": [],
   "source": [
    "# z position of the in-plane SiPMs\n",
    "z_plane = 10\n",
    "# radius of the cyinder for SiPMs at the side\n",
    "r_cylinder = 22\n",
    "# radius of a SiPM - I assume circular SiPMs with a radius to make the area correspond to a 3x3mm2 square.\n",
    "r_sipm = 1.6925\n",
    "# make an instant of the geometry class\n",
    "geo = GeoParameters(z_plane=z_plane, r_cylinder=r_cylinder, r_sipm=r_sipm)"
   ]
  },
  {
   "cell_type": "markdown",
   "metadata": {},
   "source": [
    "### Define the geometry of the silicon PMs ###\n",
    "\n",
    "Add the SiPMs to the geometry"
   ]
  },
  {
   "cell_type": "code",
   "execution_count": 3,
   "metadata": {
    "scrolled": true
   },
   "outputs": [],
   "source": [
    "inch = 25.4 # mm\n",
    "\n",
    "# generate a square array of SiPMs\n",
    "for x in np.arange(0,5*inch,10):\n",
    "    for y in np.arange(0,5*inch,10):\n",
    "        sipm = SiPM(type=\"plane\",position=[x,y,z_plane],qeff=1.)\n",
    "        geo.add_sipm(sipm)"
   ]
  },
  {
   "cell_type": "markdown",
   "metadata": {},
   "source": [
    "### Simulate the SiPM acceptance ###\n",
    "\n",
    "* uv_position is the position where the UV photons are generated\n",
    "* n_mc is the number of MC photons"
   ]
  },
  {
   "cell_type": "code",
   "execution_count": 4,
   "metadata": {
    "scrolled": true
   },
   "outputs": [
    {
     "name": "stdout",
     "output_type": "stream",
     "text": [
      "generated  0  events\n",
      "Number of SiPMs =  169  Generated hits from x= [15. 33.  0.]\n",
      " 0  (x,y,z) = ( 0.0,  0.0, 10.0) p(hit) = 0.00015  qe = 1.000\n",
      " 1  (x,y,z) = ( 0.0, 10.0, 10.0) p(hit) = 0.00027  qe = 1.000\n",
      " 2  (x,y,z) = ( 0.0, 20.0, 10.0) p(hit) = 0.00062  qe = 1.000\n",
      " 3  (x,y,z) = ( 0.0, 30.0, 10.0) p(hit) = 0.00129  qe = 1.000\n",
      " 4  (x,y,z) = ( 0.0, 40.0, 10.0) p(hit) = 0.00093  qe = 1.000\n",
      " 5  (x,y,z) = ( 0.0, 50.0, 10.0) p(hit) = 0.00051  qe = 1.000\n",
      " 6  (x,y,z) = ( 0.0, 60.0, 10.0) p(hit) = 0.00017  qe = 1.000\n",
      " 7  (x,y,z) = ( 0.0, 70.0, 10.0) p(hit) = 0.00008  qe = 1.000\n",
      " 8  (x,y,z) = ( 0.0, 80.0, 10.0) p(hit) = 0.00005  qe = 1.000\n",
      " 9  (x,y,z) = ( 0.0, 90.0, 10.0) p(hit) = 0.00002  qe = 1.000\n",
      "10  (x,y,z) = ( 0.0, 100.0, 10.0) p(hit) = 0.00000  qe = 1.000\n",
      "11  (x,y,z) = ( 0.0, 110.0, 10.0) p(hit) = 0.00003  qe = 1.000\n",
      "12  (x,y,z) = ( 0.0, 120.0, 10.0) p(hit) = 0.00000  qe = 1.000\n",
      "13  (x,y,z) = (10.0,  0.0, 10.0) p(hit) = 0.00023  qe = 1.000\n",
      "14  (x,y,z) = (10.0, 10.0, 10.0) p(hit) = 0.00032  qe = 1.000\n",
      "15  (x,y,z) = (10.0, 20.0, 10.0) p(hit) = 0.00148  qe = 1.000\n",
      "16  (x,y,z) = (10.0, 30.0, 10.0) p(hit) = 0.00466  qe = 1.000\n",
      "17  (x,y,z) = (10.0, 40.0, 10.0) p(hit) = 0.00333  qe = 1.000\n",
      "18  (x,y,z) = (10.0, 50.0, 10.0) p(hit) = 0.00089  qe = 1.000\n",
      "19  (x,y,z) = (10.0, 60.0, 10.0) p(hit) = 0.00033  qe = 1.000\n",
      "20  (x,y,z) = (10.0, 70.0, 10.0) p(hit) = 0.00020  qe = 1.000\n",
      "21  (x,y,z) = (10.0, 80.0, 10.0) p(hit) = 0.00007  qe = 1.000\n",
      "22  (x,y,z) = (10.0, 90.0, 10.0) p(hit) = 0.00005  qe = 1.000\n",
      "23  (x,y,z) = (10.0, 100.0, 10.0) p(hit) = 0.00002  qe = 1.000\n",
      "24  (x,y,z) = (10.0, 110.0, 10.0) p(hit) = 0.00001  qe = 1.000\n",
      "25  (x,y,z) = (10.0, 120.0, 10.0) p(hit) = 0.00000  qe = 1.000\n",
      "26  (x,y,z) = (20.0,  0.0, 10.0) p(hit) = 0.00018  qe = 1.000\n",
      "27  (x,y,z) = (20.0, 10.0, 10.0) p(hit) = 0.00036  qe = 1.000\n",
      "28  (x,y,z) = (20.0, 20.0, 10.0) p(hit) = 0.00135  qe = 1.000\n",
      "29  (x,y,z) = (20.0, 30.0, 10.0) p(hit) = 0.00464  qe = 1.000\n",
      "30  (x,y,z) = (20.0, 40.0, 10.0) p(hit) = 0.00329  qe = 1.000\n",
      "31  (x,y,z) = (20.0, 50.0, 10.0) p(hit) = 0.00074  qe = 1.000\n",
      "32  (x,y,z) = (20.0, 60.0, 10.0) p(hit) = 0.00018  qe = 1.000\n",
      "33  (x,y,z) = (20.0, 70.0, 10.0) p(hit) = 0.00008  qe = 1.000\n",
      "34  (x,y,z) = (20.0, 80.0, 10.0) p(hit) = 0.00008  qe = 1.000\n",
      "35  (x,y,z) = (20.0, 90.0, 10.0) p(hit) = 0.00002  qe = 1.000\n",
      "36  (x,y,z) = (20.0, 100.0, 10.0) p(hit) = 0.00002  qe = 1.000\n",
      "37  (x,y,z) = (20.0, 110.0, 10.0) p(hit) = 0.00001  qe = 1.000\n",
      "38  (x,y,z) = (20.0, 120.0, 10.0) p(hit) = 0.00000  qe = 1.000\n",
      "39  (x,y,z) = (30.0,  0.0, 10.0) p(hit) = 0.00017  qe = 1.000\n",
      "40  (x,y,z) = (30.0, 10.0, 10.0) p(hit) = 0.00022  qe = 1.000\n",
      "41  (x,y,z) = (30.0, 20.0, 10.0) p(hit) = 0.00075  qe = 1.000\n",
      "42  (x,y,z) = (30.0, 30.0, 10.0) p(hit) = 0.00119  qe = 1.000\n",
      "43  (x,y,z) = (30.0, 40.0, 10.0) p(hit) = 0.00102  qe = 1.000\n",
      "44  (x,y,z) = (30.0, 50.0, 10.0) p(hit) = 0.00048  qe = 1.000\n",
      "45  (x,y,z) = (30.0, 60.0, 10.0) p(hit) = 0.00020  qe = 1.000\n",
      "46  (x,y,z) = (30.0, 70.0, 10.0) p(hit) = 0.00013  qe = 1.000\n",
      "47  (x,y,z) = (30.0, 80.0, 10.0) p(hit) = 0.00011  qe = 1.000\n",
      "48  (x,y,z) = (30.0, 90.0, 10.0) p(hit) = 0.00002  qe = 1.000\n",
      "49  (x,y,z) = (30.0, 100.0, 10.0) p(hit) = 0.00003  qe = 1.000\n",
      "50  (x,y,z) = (30.0, 110.0, 10.0) p(hit) = 0.00002  qe = 1.000\n",
      "51  (x,y,z) = (30.0, 120.0, 10.0) p(hit) = 0.00000  qe = 1.000\n",
      "52  (x,y,z) = (40.0,  0.0, 10.0) p(hit) = 0.00002  qe = 1.000\n",
      "53  (x,y,z) = (40.0, 10.0, 10.0) p(hit) = 0.00018  qe = 1.000\n",
      "54  (x,y,z) = (40.0, 20.0, 10.0) p(hit) = 0.00023  qe = 1.000\n",
      "55  (x,y,z) = (40.0, 30.0, 10.0) p(hit) = 0.00045  qe = 1.000\n",
      "56  (x,y,z) = (40.0, 40.0, 10.0) p(hit) = 0.00026  qe = 1.000\n",
      "57  (x,y,z) = (40.0, 50.0, 10.0) p(hit) = 0.00024  qe = 1.000\n",
      "58  (x,y,z) = (40.0, 60.0, 10.0) p(hit) = 0.00009  qe = 1.000\n",
      "59  (x,y,z) = (40.0, 70.0, 10.0) p(hit) = 0.00013  qe = 1.000\n",
      "60  (x,y,z) = (40.0, 80.0, 10.0) p(hit) = 0.00004  qe = 1.000\n",
      "61  (x,y,z) = (40.0, 90.0, 10.0) p(hit) = 0.00001  qe = 1.000\n",
      "62  (x,y,z) = (40.0, 100.0, 10.0) p(hit) = 0.00001  qe = 1.000\n",
      "63  (x,y,z) = (40.0, 110.0, 10.0) p(hit) = 0.00003  qe = 1.000\n",
      "64  (x,y,z) = (40.0, 120.0, 10.0) p(hit) = 0.00000  qe = 1.000\n",
      "65  (x,y,z) = (50.0,  0.0, 10.0) p(hit) = 0.00004  qe = 1.000\n",
      "66  (x,y,z) = (50.0, 10.0, 10.0) p(hit) = 0.00009  qe = 1.000\n",
      "67  (x,y,z) = (50.0, 20.0, 10.0) p(hit) = 0.00010  qe = 1.000\n",
      "68  (x,y,z) = (50.0, 30.0, 10.0) p(hit) = 0.00015  qe = 1.000\n",
      "69  (x,y,z) = (50.0, 40.0, 10.0) p(hit) = 0.00015  qe = 1.000\n",
      "70  (x,y,z) = (50.0, 50.0, 10.0) p(hit) = 0.00007  qe = 1.000\n",
      "71  (x,y,z) = (50.0, 60.0, 10.0) p(hit) = 0.00010  qe = 1.000\n",
      "72  (x,y,z) = (50.0, 70.0, 10.0) p(hit) = 0.00007  qe = 1.000\n",
      "73  (x,y,z) = (50.0, 80.0, 10.0) p(hit) = 0.00001  qe = 1.000\n",
      "74  (x,y,z) = (50.0, 90.0, 10.0) p(hit) = 0.00001  qe = 1.000\n",
      "75  (x,y,z) = (50.0, 100.0, 10.0) p(hit) = 0.00003  qe = 1.000\n",
      "76  (x,y,z) = (50.0, 110.0, 10.0) p(hit) = 0.00000  qe = 1.000\n",
      "77  (x,y,z) = (50.0, 120.0, 10.0) p(hit) = 0.00000  qe = 1.000\n",
      "78  (x,y,z) = (60.0,  0.0, 10.0) p(hit) = 0.00002  qe = 1.000\n",
      "79  (x,y,z) = (60.0, 10.0, 10.0) p(hit) = 0.00002  qe = 1.000\n",
      "80  (x,y,z) = (60.0, 20.0, 10.0) p(hit) = 0.00010  qe = 1.000\n",
      "81  (x,y,z) = (60.0, 30.0, 10.0) p(hit) = 0.00012  qe = 1.000\n",
      "82  (x,y,z) = (60.0, 40.0, 10.0) p(hit) = 0.00006  qe = 1.000\n",
      "83  (x,y,z) = (60.0, 50.0, 10.0) p(hit) = 0.00004  qe = 1.000\n",
      "84  (x,y,z) = (60.0, 60.0, 10.0) p(hit) = 0.00006  qe = 1.000\n",
      "85  (x,y,z) = (60.0, 70.0, 10.0) p(hit) = 0.00005  qe = 1.000\n",
      "86  (x,y,z) = (60.0, 80.0, 10.0) p(hit) = 0.00001  qe = 1.000\n",
      "87  (x,y,z) = (60.0, 90.0, 10.0) p(hit) = 0.00000  qe = 1.000\n",
      "88  (x,y,z) = (60.0, 100.0, 10.0) p(hit) = 0.00003  qe = 1.000\n",
      "89  (x,y,z) = (60.0, 110.0, 10.0) p(hit) = 0.00001  qe = 1.000\n",
      "90  (x,y,z) = (60.0, 120.0, 10.0) p(hit) = 0.00000  qe = 1.000\n",
      "91  (x,y,z) = (70.0,  0.0, 10.0) p(hit) = 0.00005  qe = 1.000\n",
      "92  (x,y,z) = (70.0, 10.0, 10.0) p(hit) = 0.00001  qe = 1.000\n",
      "93  (x,y,z) = (70.0, 20.0, 10.0) p(hit) = 0.00001  qe = 1.000\n",
      "94  (x,y,z) = (70.0, 30.0, 10.0) p(hit) = 0.00002  qe = 1.000\n",
      "95  (x,y,z) = (70.0, 40.0, 10.0) p(hit) = 0.00007  qe = 1.000\n",
      "96  (x,y,z) = (70.0, 50.0, 10.0) p(hit) = 0.00002  qe = 1.000\n",
      "97  (x,y,z) = (70.0, 60.0, 10.0) p(hit) = 0.00002  qe = 1.000\n",
      "98  (x,y,z) = (70.0, 70.0, 10.0) p(hit) = 0.00001  qe = 1.000\n",
      "99  (x,y,z) = (70.0, 80.0, 10.0) p(hit) = 0.00002  qe = 1.000\n",
      "100  (x,y,z) = (70.0, 90.0, 10.0) p(hit) = 0.00000  qe = 1.000\n",
      "101  (x,y,z) = (70.0, 100.0, 10.0) p(hit) = 0.00001  qe = 1.000\n",
      "102  (x,y,z) = (70.0, 110.0, 10.0) p(hit) = 0.00000  qe = 1.000\n",
      "103  (x,y,z) = (70.0, 120.0, 10.0) p(hit) = 0.00001  qe = 1.000\n",
      "104  (x,y,z) = (80.0,  0.0, 10.0) p(hit) = 0.00002  qe = 1.000\n",
      "105  (x,y,z) = (80.0, 10.0, 10.0) p(hit) = 0.00003  qe = 1.000\n",
      "106  (x,y,z) = (80.0, 20.0, 10.0) p(hit) = 0.00001  qe = 1.000\n",
      "107  (x,y,z) = (80.0, 30.0, 10.0) p(hit) = 0.00003  qe = 1.000\n",
      "108  (x,y,z) = (80.0, 40.0, 10.0) p(hit) = 0.00004  qe = 1.000\n",
      "109  (x,y,z) = (80.0, 50.0, 10.0) p(hit) = 0.00003  qe = 1.000\n",
      "110  (x,y,z) = (80.0, 60.0, 10.0) p(hit) = 0.00005  qe = 1.000\n",
      "111  (x,y,z) = (80.0, 70.0, 10.0) p(hit) = 0.00004  qe = 1.000\n",
      "112  (x,y,z) = (80.0, 80.0, 10.0) p(hit) = 0.00000  qe = 1.000\n",
      "113  (x,y,z) = (80.0, 90.0, 10.0) p(hit) = 0.00001  qe = 1.000\n",
      "114  (x,y,z) = (80.0, 100.0, 10.0) p(hit) = 0.00001  qe = 1.000\n",
      "115  (x,y,z) = (80.0, 110.0, 10.0) p(hit) = 0.00000  qe = 1.000\n",
      "116  (x,y,z) = (80.0, 120.0, 10.0) p(hit) = 0.00000  qe = 1.000\n",
      "117  (x,y,z) = (90.0,  0.0, 10.0) p(hit) = 0.00000  qe = 1.000\n",
      "118  (x,y,z) = (90.0, 10.0, 10.0) p(hit) = 0.00000  qe = 1.000\n",
      "119  (x,y,z) = (90.0, 20.0, 10.0) p(hit) = 0.00000  qe = 1.000\n",
      "120  (x,y,z) = (90.0, 30.0, 10.0) p(hit) = 0.00000  qe = 1.000\n",
      "121  (x,y,z) = (90.0, 40.0, 10.0) p(hit) = 0.00001  qe = 1.000\n",
      "122  (x,y,z) = (90.0, 50.0, 10.0) p(hit) = 0.00005  qe = 1.000\n",
      "123  (x,y,z) = (90.0, 60.0, 10.0) p(hit) = 0.00001  qe = 1.000\n",
      "124  (x,y,z) = (90.0, 70.0, 10.0) p(hit) = 0.00003  qe = 1.000\n",
      "125  (x,y,z) = (90.0, 80.0, 10.0) p(hit) = 0.00002  qe = 1.000\n",
      "126  (x,y,z) = (90.0, 90.0, 10.0) p(hit) = 0.00002  qe = 1.000\n",
      "127  (x,y,z) = (90.0, 100.0, 10.0) p(hit) = 0.00000  qe = 1.000\n",
      "128  (x,y,z) = (90.0, 110.0, 10.0) p(hit) = 0.00000  qe = 1.000\n",
      "129  (x,y,z) = (90.0, 120.0, 10.0) p(hit) = 0.00000  qe = 1.000\n",
      "130  (x,y,z) = (100.0,  0.0, 10.0) p(hit) = 0.00000  qe = 1.000\n",
      "131  (x,y,z) = (100.0, 10.0, 10.0) p(hit) = 0.00000  qe = 1.000\n",
      "132  (x,y,z) = (100.0, 20.0, 10.0) p(hit) = 0.00002  qe = 1.000\n",
      "133  (x,y,z) = (100.0, 30.0, 10.0) p(hit) = 0.00003  qe = 1.000\n",
      "134  (x,y,z) = (100.0, 40.0, 10.0) p(hit) = 0.00001  qe = 1.000\n",
      "135  (x,y,z) = (100.0, 50.0, 10.0) p(hit) = 0.00003  qe = 1.000\n",
      "136  (x,y,z) = (100.0, 60.0, 10.0) p(hit) = 0.00001  qe = 1.000\n",
      "137  (x,y,z) = (100.0, 70.0, 10.0) p(hit) = 0.00001  qe = 1.000\n",
      "138  (x,y,z) = (100.0, 80.0, 10.0) p(hit) = 0.00001  qe = 1.000\n",
      "139  (x,y,z) = (100.0, 90.0, 10.0) p(hit) = 0.00001  qe = 1.000\n",
      "140  (x,y,z) = (100.0, 100.0, 10.0) p(hit) = 0.00002  qe = 1.000\n",
      "141  (x,y,z) = (100.0, 110.0, 10.0) p(hit) = 0.00000  qe = 1.000\n",
      "142  (x,y,z) = (100.0, 120.0, 10.0) p(hit) = 0.00000  qe = 1.000\n",
      "143  (x,y,z) = (110.0,  0.0, 10.0) p(hit) = 0.00001  qe = 1.000\n",
      "144  (x,y,z) = (110.0, 10.0, 10.0) p(hit) = 0.00000  qe = 1.000\n",
      "145  (x,y,z) = (110.0, 20.0, 10.0) p(hit) = 0.00000  qe = 1.000\n",
      "146  (x,y,z) = (110.0, 30.0, 10.0) p(hit) = 0.00001  qe = 1.000\n",
      "147  (x,y,z) = (110.0, 40.0, 10.0) p(hit) = 0.00000  qe = 1.000\n",
      "148  (x,y,z) = (110.0, 50.0, 10.0) p(hit) = 0.00001  qe = 1.000\n",
      "149  (x,y,z) = (110.0, 60.0, 10.0) p(hit) = 0.00001  qe = 1.000\n",
      "150  (x,y,z) = (110.0, 70.0, 10.0) p(hit) = 0.00000  qe = 1.000\n",
      "151  (x,y,z) = (110.0, 80.0, 10.0) p(hit) = 0.00000  qe = 1.000\n",
      "152  (x,y,z) = (110.0, 90.0, 10.0) p(hit) = 0.00000  qe = 1.000\n",
      "153  (x,y,z) = (110.0, 100.0, 10.0) p(hit) = 0.00000  qe = 1.000\n",
      "154  (x,y,z) = (110.0, 110.0, 10.0) p(hit) = 0.00000  qe = 1.000\n",
      "155  (x,y,z) = (110.0, 120.0, 10.0) p(hit) = 0.00000  qe = 1.000\n",
      "156  (x,y,z) = (120.0,  0.0, 10.0) p(hit) = 0.00001  qe = 1.000\n",
      "157  (x,y,z) = (120.0, 10.0, 10.0) p(hit) = 0.00001  qe = 1.000\n",
      "158  (x,y,z) = (120.0, 20.0, 10.0) p(hit) = 0.00000  qe = 1.000\n",
      "159  (x,y,z) = (120.0, 30.0, 10.0) p(hit) = 0.00001  qe = 1.000\n",
      "160  (x,y,z) = (120.0, 40.0, 10.0) p(hit) = 0.00002  qe = 1.000\n",
      "161  (x,y,z) = (120.0, 50.0, 10.0) p(hit) = 0.00001  qe = 1.000\n",
      "162  (x,y,z) = (120.0, 60.0, 10.0) p(hit) = 0.00000  qe = 1.000\n",
      "163  (x,y,z) = (120.0, 70.0, 10.0) p(hit) = 0.00000  qe = 1.000\n",
      "164  (x,y,z) = (120.0, 80.0, 10.0) p(hit) = 0.00000  qe = 1.000\n",
      "165  (x,y,z) = (120.0, 90.0, 10.0) p(hit) = 0.00002  qe = 1.000\n",
      "166  (x,y,z) = (120.0, 100.0, 10.0) p(hit) = 0.00000  qe = 1.000\n",
      "167  (x,y,z) = (120.0, 110.0, 10.0) p(hit) = 0.00000  qe = 1.000\n",
      "168  (x,y,z) = (120.0, 120.0, 10.0) p(hit) = 0.00000  qe = 1.000\n",
      "event generation done\n"
     ]
    }
   ],
   "source": [
    "#sim = Simulator(geo=geo,uv_position=[30.4,37.6,0],n_mc=100000)\n",
    "sim = Simulator(geo=geo,uv_position=[15.,33.,0],n_mc=100000)\n",
    "\n",
    "sim.generate_events()"
   ]
  },
  {
   "cell_type": "markdown",
   "metadata": {},
   "source": [
    "### Emulate events and reconstruct the position ###\n",
    "\n",
    "* n_event = number of events to emulate\n",
    "* n_uv = number of UV photons assumed for the S2 signal"
   ]
  },
  {
   "cell_type": "code",
   "execution_count": 5,
   "metadata": {},
   "outputs": [],
   "source": [
    "%load_ext snakeviz"
   ]
  },
  {
   "cell_type": "code",
   "execution_count": 6,
   "metadata": {
    "scrolled": false
   },
   "outputs": [
    {
     "name": "stdout",
     "output_type": "stream",
     "text": [
      "generated  0  events\n"
     ]
    },
    {
     "name": "stderr",
     "output_type": "stream",
     "text": [
      "C:\\Users\\aukep\\surfdrive\\xams\\SiPM\\LinPosFit.py:165: NumbaPerformanceWarning: \u001b[1m\u001b[1mnp.dot() is faster on contiguous arrays, called on (array(float64, 2d, A), array(float64, 1d, C))\u001b[0m\u001b[0m\n",
      "  result = np.dot(minv, g)\n"
     ]
    },
    {
     "name": "stdout",
     "output_type": "stream",
     "text": [
      "generated  100  events\n",
      "generated  200  events\n",
      "generated  300  events\n",
      "generated  400  events\n",
      "generated  500  events\n",
      "generated  600  events\n",
      "generated  700  events\n",
      "generated  800  events\n",
      "generated  900  events\n",
      "reconstruction done\n",
      "Wall time: 7.44 s\n"
     ]
    }
   ],
   "source": [
    "%%time\n",
    "rec = Reconstruction(sim=sim, alpha0=0.)\n",
    "df = rec.emulate_events(n_uv=125000,n_event=1000,n_min=0,method=\"LINEAR\",plot=False,nbins=100,range=((-20,20),(-20,40)))"
   ]
  },
  {
   "cell_type": "markdown",
   "metadata": {},
   "source": [
    "# Plots from here ...... ###"
   ]
  },
  {
   "cell_type": "markdown",
   "metadata": {},
   "source": [
    "1D distribution of reconstructed x and y position"
   ]
  },
  {
   "cell_type": "code",
   "execution_count": 7,
   "metadata": {
    "scrolled": false
   },
   "outputs": [
    {
     "name": "stdout",
     "output_type": "stream",
     "text": [
      "N entry: 1000\n",
      "<xr> =  14.931027762038266  +/- 0.0053221637329523164  mm\n",
      "    rms_x =  0.16830159476473458  mm\n",
      "<yr> =  33.14024915936888  +/- 0.005191941535353179  mm\n",
      "    rms_y =  0.16418360730147671  mm\n"
     ]
    },
    {
     "data": {
      "image/png": "[encoded data removed]",
      "text/plain": [
       "<Figure size 504x360 with 1 Axes>"
      ]
     },
     "metadata": {
      "needs_background": "light"
     },
     "output_type": "display_data"
    }
   ],
   "source": [
    "a = rec.plot(type=\"res\",bins=100,range=(-100,100))"
   ]
  },
  {
   "cell_type": "markdown",
   "metadata": {},
   "source": [
    "2D distribution of y as a function of x"
   ]
  },
  {
   "cell_type": "code",
   "execution_count": 8,
   "metadata": {
    "scrolled": false
   },
   "outputs": [
    {
     "data": {
      "text/plain": [
       "<matplotlib.patches.Circle at 0x2ec5a2d6ec8>"
      ]
     },
     "execution_count": 8,
     "metadata": {},
     "output_type": "execute_result"
    },
    {
     "data": {
      "image/png": "[encoded data removed]",
      "text/plain": [
       "<Figure size 576x576 with 1 Axes>"
      ]
     },
     "metadata": {
      "needs_background": "light"
     },
     "output_type": "display_data"
    }
   ],
   "source": [
    "inch = 25.4\n",
    "ax = rec.plot(type=\"xy\",range=((-10,3*inch+10),(-10,3*inch+10)))\n",
    "#ax = rec.plot(type=\"xy\",range=((-10,10),(40,60)))\n",
    "\n",
    "\n",
    "# add outline of a single 3\" PMT\n",
    "c1 = plt.Circle(radius=3*inch/2,xy=(3*inch/2,3*inch/2),fill=False,color='white')\n",
    "ax.add_artist(c1)"
   ]
  },
  {
   "cell_type": "markdown",
   "metadata": {},
   "source": [
    "Distribution of reconstructed UV intensity"
   ]
  },
  {
   "cell_type": "code",
   "execution_count": 9,
   "metadata": {
    "scrolled": true
   },
   "outputs": [
    {
     "data": {
      "text/plain": [
       "<matplotlib.axes._subplots.AxesSubplot at 0x2ec59e3eb08>"
      ]
     },
     "execution_count": 9,
     "metadata": {},
     "output_type": "execute_result"
    },
    {
     "data": {
      "image/png": "[encoded data removed]",
      "text/plain": [
       "<Figure size 432x288 with 1 Axes>"
      ]
     },
     "metadata": {
      "needs_background": "light"
     },
     "output_type": "display_data"
    }
   ],
   "source": [
    "rec.plot(type=\"alpha\",range=(0,0.001))"
   ]
  },
  {
   "cell_type": "code",
   "execution_count": 10,
   "metadata": {
    "scrolled": true
   },
   "outputs": [
    {
     "name": "stdout",
     "output_type": "stream",
     "text": [
      " N(UV) reco =  125872.07668028919  +/- 62.73300658391849\n"
     ]
    },
    {
     "data": {
      "text/plain": [
       "<matplotlib.axes._subplots.AxesSubplot at 0x2ec59a43b08>"
      ]
     },
     "execution_count": 10,
     "metadata": {},
     "output_type": "execute_result"
    },
    {
     "data": {
      "image/png": "[encoded data removed]",
      "text/plain": [
       "<Figure size 432x288 with 1 Axes>"
      ]
     },
     "metadata": {
      "needs_background": "light"
     },
     "output_type": "display_data"
    }
   ],
   "source": [
    "rec.plot(type=\"intensity\",range=(0,1000000))"
   ]
  },
  {
   "cell_type": "code",
   "execution_count": null,
   "metadata": {},
   "outputs": [],
   "source": []
  },
  {
   "cell_type": "code",
   "execution_count": null,
   "metadata": {},
   "outputs": [],
   "source": []
  }
 ],
 "metadata": {
  "kernelspec": {
   "display_name": "Python 3",
   "language": "python",
   "name": "python3"
  },
  "language_info": {
   "codemirror_mode": {
    "name": "ipython",
    "version": 3
   },
   "file_extension": ".py",
   "mimetype": "text/x-python",
   "name": "python",
   "nbconvert_exporter": "python",
   "pygments_lexer": "ipython3",
   "version": "3.7.6"
  }
 },
 "nbformat": 4,
 "nbformat_minor": 2
}
