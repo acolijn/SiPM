{
 "cells": [
  {
   "cell_type": "markdown",
   "metadata": {},
   "source": [
    "## DARWIN SiPM simulation## "
   ]
  },
  {
   "cell_type": "code",
   "execution_count": 1,
   "metadata": {
    "scrolled": false
   },
   "outputs": [],
   "source": [
    "#\n",
    "# import the SiPM classes\n",
    "#\n",
    "from SiPM import *\n",
    "# for plotting\n",
    "import matplotlib\n",
    "import matplotlib.pyplot as plt\n",
    "%matplotlib inline"
   ]
  },
  {
   "cell_type": "markdown",
   "metadata": {},
   "source": [
    "### Define general geometry parameters ###"
   ]
  },
  {
   "cell_type": "code",
   "execution_count": 2,
   "metadata": {
    "scrolled": false
   },
   "outputs": [],
   "source": [
    "# z position of the in-plane SiPMs\n",
    "z_plane = 10\n",
    "# radius of the cyinder for SiPMs at the side\n",
    "r_cylinder = 22\n",
    "# radius of a SiPM - I assume circular SiPMs with a radius to make the area correspond to a 3x3mm2 square.\n",
    "r_sipm = 1.6925\n",
    "# make an instant of the geometry class\n",
    "geo = GeoParameters(z_plane=z_plane, r_cylinder=r_cylinder, r_sipm=r_sipm)"
   ]
  },
  {
   "cell_type": "markdown",
   "metadata": {},
   "source": [
    "### Define the geometry of the silicon PMs ###\n",
    "\n",
    "Add the SiPMs to the geometry"
   ]
  },
  {
   "cell_type": "code",
   "execution_count": 3,
   "metadata": {
    "scrolled": false
   },
   "outputs": [],
   "source": [
    "inch = 25.4 # mm\n",
    "    \n",
    "sipm = SiPM(type=\"plane\",position=[  0.0,-15.0,z_plane],qeff=1)\n",
    "geo.add_sipm(sipm)\n",
    "sipm = SiPM(type=\"plane\",position=[-13.0, -7.5,z_plane],qeff=1)\n",
    "geo.add_sipm(sipm)\n",
    "sipm = SiPM(type=\"plane\",position=[+13.0, -7.5,z_plane],qeff=1)\n",
    "geo.add_sipm(sipm)\n",
    "sipm = SiPM(type=\"plane\",position=[ -4.0,  0.0,z_plane],qeff=1)\n",
    "geo.add_sipm(sipm)\n",
    "sipm = SiPM(type=\"plane\",position=[ +4.0,  0.0,z_plane],qeff=1)\n",
    "geo.add_sipm(sipm)\n",
    "sipm = SiPM(type=\"plane\",position=[-13.0, +7.5,z_plane],qeff=1)\n",
    "geo.add_sipm(sipm)\n",
    "sipm = SiPM(type=\"plane\",position=[+13.0, +7.5,z_plane],qeff=1)\n",
    "geo.add_sipm(sipm)"
   ]
  },
  {
   "cell_type": "markdown",
   "metadata": {},
   "source": [
    "### Simulate the SiPM acceptance ###\n",
    "\n",
    "* uv_position is the position where the UV photons are generated\n",
    "* n_mc is the number of MC photons"
   ]
  },
  {
   "cell_type": "code",
   "execution_count": 4,
   "metadata": {
    "scrolled": false
   },
   "outputs": [
    {
     "name": "stdout",
     "output_type": "stream",
     "text": [
      "generated  0  events\n",
      "Number of SiPMs =  7  Generated hits from x= [ 3. -8.  0.]\n",
      " 0  (x,y,z) = ( 0.0, -15.0, 10.0) p(hit) = 0.00411  qe = 1.000\n",
      " 1  (x,y,z) = (-13.0, -7.5, 10.0) p(hit) = 0.00100  qe = 1.000\n",
      " 2  (x,y,z) = (13.0, -7.5, 10.0) p(hit) = 0.00229  qe = 1.000\n",
      " 3  (x,y,z) = (-4.0,  0.0, 10.0) p(hit) = 0.00230  qe = 1.000\n",
      " 4  (x,y,z) = ( 4.0,  0.0, 10.0) p(hit) = 0.00360  qe = 1.000\n",
      " 5  (x,y,z) = (-13.0,  7.5, 10.0) p(hit) = 0.00040  qe = 1.000\n",
      " 6  (x,y,z) = (13.0,  7.5, 10.0) p(hit) = 0.00071  qe = 1.000\n",
      "event generation done\n"
     ]
    }
   ],
   "source": [
    "#sim = Simulator(geo=geo,uv_position=[30.4,37.6,0],n_mc=100000)\n",
    "x0 = [ 3,-8, 0.]\n",
    "sim = Simulator(geo=geo,uv_position=x0,n_mc=100000)\n",
    "\n",
    "sim.generate_events()"
   ]
  },
  {
   "cell_type": "markdown",
   "metadata": {},
   "source": [
    "### Emulate events and reconstruct the position ###\n",
    "\n",
    "* n_event = number of events to emulate\n",
    "* n_uv = number of UV photons assumed for the S2 signal"
   ]
  },
  {
   "cell_type": "code",
   "execution_count": 13,
   "metadata": {
    "scrolled": true
   },
   "outputs": [],
   "source": [
    "%load_ext snakeviz"
   ]
  },
  {
   "cell_type": "code",
   "execution_count": 15,
   "metadata": {
    "scrolled": false
   },
   "outputs": [
    {
     "name": "stdout",
     "output_type": "stream",
     "text": [
      "generated  0  events\n",
      "generated  100  events\n",
      "generated  200  events\n",
      "generated  300  events\n",
      "generated  400  events\n",
      "generated  500  events\n",
      "generated  600  events\n",
      "generated  700  events\n",
      "generated  800  events\n",
      "generated  900  events\n",
      "generated  1000  events\n",
      "generated  1100  events\n",
      "generated  1200  events\n",
      "generated  1300  events\n",
      "generated  1400  events\n",
      "generated  1500  events\n",
      "generated  1600  events\n",
      "generated  1700  events\n",
      "generated  1800  events\n",
      "generated  1900  events\n",
      "generated  2000  events\n",
      "generated  2100  events\n",
      "generated  2200  events\n",
      "generated  2300  events\n",
      "generated  2400  events\n",
      "generated  2500  events\n",
      "generated  2600  events\n",
      "generated  2700  events\n",
      "generated  2800  events\n",
      "generated  2900  events\n",
      "generated  3000  events\n",
      "generated  3100  events\n",
      "generated  3200  events\n",
      "generated  3300  events\n",
      "generated  3400  events\n",
      "generated  3500  events\n",
      "generated  3600  events\n",
      "generated  3700  events\n",
      "generated  3800  events\n",
      "generated  3900  events\n",
      "generated  4000  events\n",
      "generated  4100  events\n",
      "generated  4200  events\n",
      "generated  4300  events\n",
      "generated  4400  events\n",
      "generated  4500  events\n",
      "generated  4600  events\n",
      "generated  4700  events\n",
      "generated  4800  events\n",
      "generated  4900  events\n",
      "generated  5000  events\n",
      "generated  5100  events\n",
      "generated  5200  events\n",
      "generated  5300  events\n",
      "generated  5400  events\n",
      "generated  5500  events\n",
      "generated  5600  events\n",
      "generated  5700  events\n",
      "generated  5800  events\n",
      "generated  5900  events\n",
      "generated  6000  events\n",
      "generated  6100  events\n",
      "generated  6200  events\n",
      "generated  6300  events\n",
      "generated  6400  events\n",
      "generated  6500  events\n",
      "generated  6600  events\n",
      "generated  6700  events\n",
      "generated  6800  events\n",
      "generated  6900  events\n",
      "generated  7000  events\n",
      "generated  7100  events\n",
      "generated  7200  events\n",
      "generated  7300  events\n",
      "generated  7400  events\n",
      "generated  7500  events\n",
      "generated  7600  events\n",
      "generated  7700  events\n",
      "generated  7800  events\n",
      "generated  7900  events\n",
      "generated  8000  events\n",
      "generated  8100  events\n",
      "generated  8200  events\n",
      "generated  8300  events\n",
      "generated  8400  events\n",
      "generated  8500  events\n",
      "generated  8600  events\n",
      "generated  8700  events\n",
      "generated  8800  events\n",
      "generated  8900  events\n",
      "generated  9000  events\n",
      "generated  9100  events\n",
      "generated  9200  events\n",
      "generated  9300  events\n",
      "generated  9400  events\n",
      "generated  9500  events\n",
      "generated  9600  events\n",
      "generated  9700  events\n",
      "generated  9800  events\n",
      "generated  9900  events\n",
      "reconstruction done\n",
      " \n",
      "*** Profile stats marshalled to file 'C:\\\\Users\\\\aukep\\\\AppData\\\\Local\\\\Temp\\\\tmp6txsyp8z'. \n",
      "Embedding SnakeViz in this document...\n"
     ]
    },
    {
     "data": {
      "text/html": [
       "\n",
       "<iframe id='snakeviz-b67e5f92-663d-11eb-89bc-983b8fc31a3f' frameborder=0 seamless width='100%' height='1000'></iframe>\n",
       "<script>document.getElementById(\"snakeviz-b67e5f92-663d-11eb-89bc-983b8fc31a3f\").setAttribute(\"src\", \"http://\" + document.location.hostname + \":8080/snakeviz/C%3A%5CUsers%5Caukep%5CAppData%5CLocal%5CTemp%5Ctmp6txsyp8z\")</script>\n"
      ],
      "text/plain": [
       "<IPython.core.display.HTML object>"
      ]
     },
     "metadata": {},
     "output_type": "display_data"
    }
   ],
   "source": [
    "%%snakeviz\n",
    "rec = Reconstruction(sim=sim, alpha0=0.0)\n",
    "df = rec.emulate_events(n_uv=50000,n_event=10000,n_min=0,method=\"LINEAR\",plot=False,nbins=100,range=((-20.,20.),(-20.,20.)))"
   ]
  },
  {
   "cell_type": "markdown",
   "metadata": {},
   "source": [
    "# Plots from here ...... ###"
   ]
  },
  {
   "cell_type": "markdown",
   "metadata": {},
   "source": [
    "1D distribution of reconstructed x and y position"
   ]
  },
  {
   "cell_type": "code",
   "execution_count": 7,
   "metadata": {
    "scrolled": false
   },
   "outputs": [
    {
     "name": "stdout",
     "output_type": "stream",
     "text": [
      "N entry: 1000\n",
      "<xr> =  2.68981815888765  +/- 0.012123607428122284  mm\n",
      "    rms_x =  0.38338212930602517  mm\n",
      "<yr> =  -8.307882906726121  +/- 0.011177472479261234  mm\n",
      "    rms_y =  0.3534627151831467  mm\n"
     ]
    },
    {
     "data": {
      "image/png": "[encoded data removed]",
      "text/plain": [
       "<Figure size 504x360 with 1 Axes>"
      ]
     },
     "metadata": {
      "needs_background": "light"
     },
     "output_type": "display_data"
    }
   ],
   "source": [
    "a = rec.plot(type=\"res\",bins=100,range=(-50,50))\n",
    "plt.yscale('log')"
   ]
  },
  {
   "cell_type": "markdown",
   "metadata": {},
   "source": [
    "2D distribution of y as a function of x"
   ]
  },
  {
   "cell_type": "code",
   "execution_count": 8,
   "metadata": {
    "scrolled": false
   },
   "outputs": [
    {
     "data": {
      "text/plain": [
       "[<matplotlib.lines.Line2D at 0x2693f337fc8>]"
      ]
     },
     "execution_count": 8,
     "metadata": {},
     "output_type": "execute_result"
    },
    {
     "data": {
      "image/png": "[encoded data removed]",
      "text/plain": [
       "<Figure size 576x576 with 1 Axes>"
      ]
     },
     "metadata": {
      "needs_background": "light"
     },
     "output_type": "display_data"
    }
   ],
   "source": [
    "inch = 25.4\n",
    "ax = rec.plot(type=\"xy\",range=((-25,25),(-25,25)))\n",
    "#ax = rec.plot(type=\"xy\",range=((-10,10),(40,60)))\n",
    "plt.plot([x0[0]],[x0[1]],marker='x',color='red',markersize=10)"
   ]
  },
  {
   "cell_type": "markdown",
   "metadata": {},
   "source": [
    "Distribution of reconstructed UV intensity"
   ]
  },
  {
   "cell_type": "code",
   "execution_count": 9,
   "metadata": {
    "scrolled": false
   },
   "outputs": [
    {
     "name": "stdout",
     "output_type": "stream",
     "text": [
      " N(UV) reco =  51154.04326503903  +/- 63.55142501212253\n"
     ]
    },
    {
     "name": "stderr",
     "output_type": "stream",
     "text": [
      "C:\\ProgramData\\Anaconda3\\lib\\site-packages\\ipykernel_launcher.py:2: UserWarning: Data has no positive values, and therefore cannot be log-scaled.\n",
      "  \n"
     ]
    },
    {
     "data": {
      "text/plain": [
       "(0.1, 1000.0)"
      ]
     },
     "execution_count": 9,
     "metadata": {},
     "output_type": "execute_result"
    },
    {
     "data": {
      "image/png": "[encoded data removed]",
      "text/plain": [
       "<Figure size 432x288 with 1 Axes>"
      ]
     },
     "metadata": {
      "needs_background": "light"
     },
     "output_type": "display_data"
    }
   ],
   "source": [
    "rec.plot(type=\"intensity\",range=(9000000,11000000))\n",
    "plt.yscale('log')\n",
    "plt.ylim([0.1,1e3])"
   ]
  },
  {
   "cell_type": "code",
   "execution_count": 12,
   "metadata": {
    "scrolled": true
   },
   "outputs": [
    {
     "ename": "TypeError",
     "evalue": "'NoneType' object is not callable",
     "output_type": "error",
     "traceback": [
      "\u001b[1;31m---------------------------------------------------------------------------\u001b[0m",
      "\u001b[1;31mTypeError\u001b[0m                                 Traceback (most recent call last)",
      "\u001b[1;32m<ipython-input-12-bb777ef3e54a>\u001b[0m in \u001b[0;36m<module>\u001b[1;34m\u001b[0m\n\u001b[1;32m----> 1\u001b[1;33m \u001b[0mrec\u001b[0m\u001b[1;33m.\u001b[0m\u001b[0mplot\u001b[0m\u001b[1;33m(\u001b[0m\u001b[0mtype\u001b[0m\u001b[1;33m=\u001b[0m\u001b[1;34m\"r0\"\u001b[0m\u001b[1;33m)\u001b[0m\u001b[1;33m\u001b[0m\u001b[1;33m\u001b[0m\u001b[0m\n\u001b[0m",
      "\u001b[1;32m~\\surfdrive\\xams\\SiPM\\SiPM.py\u001b[0m in \u001b[0;36mplot\u001b[1;34m(self, type, **kwargs)\u001b[0m\n\u001b[0;32m    658\u001b[0m             \u001b[0mip\u001b[0m \u001b[1;33m=\u001b[0m \u001b[1;33m[\u001b[0m\u001b[1;33m]\u001b[0m\u001b[1;33m\u001b[0m\u001b[1;33m\u001b[0m\u001b[0m\n\u001b[0;32m    659\u001b[0m             \u001b[0myp\u001b[0m \u001b[1;33m=\u001b[0m \u001b[1;33m[\u001b[0m\u001b[1;33m]\u001b[0m\u001b[1;33m\u001b[0m\u001b[1;33m\u001b[0m\u001b[0m\n\u001b[1;32m--> 660\u001b[1;33m             \u001b[1;32mfor\u001b[0m \u001b[0mi\u001b[0m \u001b[1;32min\u001b[0m \u001b[0mrange\u001b[0m\u001b[1;33m(\u001b[0m\u001b[0mlen\u001b[0m\u001b[1;33m(\u001b[0m\u001b[0mself\u001b[0m\u001b[1;33m.\u001b[0m\u001b[0mxiter\u001b[0m\u001b[1;33m)\u001b[0m\u001b[1;33m)\u001b[0m\u001b[1;33m:\u001b[0m\u001b[1;33m\u001b[0m\u001b[1;33m\u001b[0m\u001b[0m\n\u001b[0m\u001b[0;32m    661\u001b[0m                 \u001b[1;32mif\u001b[0m \u001b[0mself\u001b[0m\u001b[1;33m.\u001b[0m\u001b[0mxiter\u001b[0m\u001b[1;33m[\u001b[0m\u001b[0mi\u001b[0m\u001b[1;33m]\u001b[0m\u001b[1;33m[\u001b[0m\u001b[1;36m2\u001b[0m\u001b[1;33m]\u001b[0m \u001b[1;33m>\u001b[0m \u001b[1;36m0\u001b[0m\u001b[1;33m:\u001b[0m\u001b[1;33m\u001b[0m\u001b[1;33m\u001b[0m\u001b[0m\n\u001b[0;32m    662\u001b[0m                     \u001b[0mip\u001b[0m\u001b[1;33m.\u001b[0m\u001b[0mappend\u001b[0m\u001b[1;33m(\u001b[0m\u001b[0mi\u001b[0m\u001b[1;33m)\u001b[0m\u001b[1;33m\u001b[0m\u001b[1;33m\u001b[0m\u001b[0m\n",
      "\u001b[1;31mTypeError\u001b[0m: 'NoneType' object is not callable"
     ]
    }
   ],
   "source": [
    "rec.plot(type=\"r0\")"
   ]
  },
  {
   "cell_type": "code",
   "execution_count": null,
   "metadata": {},
   "outputs": [],
   "source": []
  }
 ],
 "metadata": {
  "kernelspec": {
   "display_name": "Python 3",
   "language": "python",
   "name": "python3"
  },
  "language_info": {
   "codemirror_mode": {
    "name": "ipython",
    "version": 3
   },
   "file_extension": ".py",
   "mimetype": "text/x-python",
   "name": "python",
   "nbconvert_exporter": "python",
   "pygments_lexer": "ipython3",
   "version": "3.7.6"
  }
 },
 "nbformat": 4,
 "nbformat_minor": 2
}
